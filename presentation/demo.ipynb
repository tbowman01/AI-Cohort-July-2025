{
 "cells": [
  {
   "cell_type": "markdown",
   "id": "ffdf6e5b",
   "metadata": {},
   "source": [
    "# 🛠️ AutoDevHub Development Workflow Notebook\n",
    "This Jupyter notebook replicates the functionality of the `Makefile` for demonstration of development tasks such as setup, testing, linting, formatting, and more.\n",
    "\n",
    "> ⚠️ Ensure you have Python, Node.js, and the required tools installed in your environment before running the cells."
   ]
  },
  {
   "cell_type": "markdown",
   "id": "6eefce8a",
   "metadata": {},
   "source": [
    "## 🚀 Setup Environment"
   ]
  },
  {
   "cell_type": "code",
   "execution_count": null,
   "id": "b4a4d54a",
   "metadata": {},
   "outputs": [],
   "source": [
    "# !chmod +x dev-setup.sh\n",
    "# !./dev-setup.sh\n",
    "\n"
   ]
  },
  {
   "cell_type": "markdown",
   "id": "972f1193",
   "metadata": {},
   "source": [
    "## 📦 Install Dependencies"
   ]
  },
  {
   "cell_type": "code",
   "execution_count": null,
   "id": "6e7b5d55",
   "metadata": {},
   "outputs": [],
   "source": [
    "!pip install -r requirements.txt\n",
    "!npm install"
   ]
  },
  {
   "cell_type": "markdown",
   "id": "cd073e8c",
   "metadata": {},
   "source": [
    "## 🧪 Run Tests"
   ]
  },
  {
   "cell_type": "code",
   "execution_count": null,
   "id": "aff0eafc",
   "metadata": {},
   "outputs": [],
   "source": [
    "!pytest -v --cov=backend --cov-report=html --cov-report=term\n",
    "!npm test"
   ]
  },
  {
   "cell_type": "markdown",
   "id": "189062d8",
   "metadata": {},
   "source": [
    "## 🔍 Run Linting"
   ]
  },
  {
   "cell_type": "code",
   "execution_count": null,
   "id": "90acbd07",
   "metadata": {},
   "outputs": [],
   "source": [
    "!flake8 backend tests || true\n",
    "!npm run lint || true"
   ]
  },
  {
   "cell_type": "markdown",
   "id": "832f86dc",
   "metadata": {},
   "source": [
    "## ✨ Format Code"
   ]
  },
  {
   "cell_type": "code",
   "execution_count": null,
   "id": "9312c102",
   "metadata": {},
   "outputs": [],
   "source": [
    "!black backend tests\n",
    "!isort backend tests\n",
    "!npm run lint -- --fix"
   ]
  },
  {
   "cell_type": "markdown",
   "id": "20b0345e",
   "metadata": {},
   "source": [
    "## 🔒 Run Security Scans"
   ]
  },
  {
   "cell_type": "code",
   "execution_count": null,
   "id": "46d9c038",
   "metadata": {},
   "outputs": [],
   "source": [
    "!bandit -r backend -f json -o security-report.json\n",
    "!npm audit"
   ]
  },
  {
   "cell_type": "markdown",
   "id": "21fe9acf",
   "metadata": {},
   "source": [
    "## 🖥️ Start Development Servers (Run in Terminal)"
   ]
  },
  {
   "cell_type": "code",
   "execution_count": null,
   "id": "0a74e458",
   "metadata": {},
   "outputs": [],
   "source": [
    "# Run this in a terminal or subprocess to maintain server\n",
    "!uvicorn backend.app.main:app --reload --host 0.0.0.0 --port 8000 &\n",
    "!npm run dev"
   ]
  },
  {
   "cell_type": "markdown",
   "id": "1bb35f8d",
   "metadata": {},
   "source": [
    "## 🏗️ Build for Production"
   ]
  },
  {
   "cell_type": "code",
   "execution_count": null,
   "id": "bf2a4713",
   "metadata": {},
   "outputs": [],
   "source": [
    "!npm run build"
   ]
  },
  {
   "cell_type": "markdown",
   "id": "0fff09f4",
   "metadata": {},
   "source": [
    "## 🧹 Clean Build Artifacts"
   ]
  },
  {
   "cell_type": "code",
   "execution_count": null,
   "id": "dcc24213",
   "metadata": {},
   "outputs": [],
   "source": [
    "!rm -rf dist/ htmlcov/ .pytest_cache/ node_modules/.cache/ __pycache__/\n",
    "!find . -type d -name '*.egg-info' -exec rm -rf {} +\n",
    "!find . -type f -name '*.pyc' -delete"
   ]
  },
  {
   "cell_type": "markdown",
   "id": "1a2fe58f",
   "metadata": {},
   "source": [
    "## 📚 Documentation (To Be Implemented)"
   ]
  },
  {
   "cell_type": "code",
   "execution_count": null,
   "id": "4fb5a6e7",
   "metadata": {},
   "outputs": [],
   "source": [
    "print(\"Documentation generation not yet implemented\")"
   ]
  },
  {
   "cell_type": "markdown",
   "id": "f109dc0a",
   "metadata": {},
   "source": [
    "## ✅ Quick Validation"
   ]
  },
  {
   "cell_type": "code",
   "execution_count": null,
   "id": "d0e42344",
   "metadata": {},
   "outputs": [],
   "source": [
    "!python -c \"import fastapi, uvicorn, sqlalchemy; print('Python environment OK')\"\n",
    "!node -e \"console.log('Node.js environment OK')\""
   ]
  },
  {
   "cell_type": "markdown",
   "id": "121c62a6",
   "metadata": {},
   "source": [
    "## 🔄 Simulate CI/CD"
   ]
  },
  {
   "cell_type": "code",
   "execution_count": null,
   "id": "aa0121ad",
   "metadata": {},
   "outputs": [],
   "source": [
    "!flake8 backend tests || true\n",
    "!bandit -r backend -f json -o security-report.json\n",
    "!npm audit\n",
    "!pytest -v --cov=backend --cov-report=html --cov-report=term\n",
    "!npm test\n",
    "!npm run build"
   ]
  }
 ],
 "metadata": {
  "kernelspec": {
   "display_name": "Python 3",
   "language": "python",
   "name": "python3"
  },
  "language_info": {
   "codemirror_mode": {
    "name": "ipython",
    "version": 3
   },
   "file_extension": ".py",
   "mimetype": "text/x-python",
   "name": "python",
   "nbconvert_exporter": "python",
   "pygments_lexer": "ipython3",
   "version": "3.12.1"
  }
 },
 "nbformat": 4,
 "nbformat_minor": 5
}
